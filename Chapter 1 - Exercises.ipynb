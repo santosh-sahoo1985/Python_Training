{
 "cells": [
  {
   "cell_type": "markdown",
   "metadata": {},
   "source": [
    "#1 Define a variable and assign it your first name (bonus points for input command!)"
   ]
  },
  {
   "cell_type": "code",
   "execution_count": 1,
   "metadata": {},
   "outputs": [
    {
     "name": "stdout",
     "output_type": "stream",
     "text": [
      "santosh\n"
     ]
    }
   ],
   "source": [
    "name=input()"
   ]
  },
  {
   "cell_type": "markdown",
   "metadata": {},
   "source": [
    "#2- Retrieve the last 3 characters of your name, assign it to a new variable"
   ]
  },
  {
   "cell_type": "code",
   "execution_count": 2,
   "metadata": {},
   "outputs": [
    {
     "name": "stdout",
     "output_type": "stream",
     "text": [
      "san\n"
     ]
    }
   ],
   "source": [
    "n_name=name[:3]\n",
    "print(n_name)"
   ]
  },
  {
   "cell_type": "markdown",
   "metadata": {},
   "source": [
    "#3- Add the first 3 characters of your name to the end of the previous variable, make it upper case then capitalize it"
   ]
  },
  {
   "cell_type": "code",
   "execution_count": 3,
   "metadata": {},
   "outputs": [
    {
     "data": {
      "text/plain": [
       "'Sansan'"
      ]
     },
     "execution_count": 3,
     "metadata": {},
     "output_type": "execute_result"
    }
   ],
   "source": [
    "n_name=n_name+name[:3]\n",
    "n_name.upper()\n",
    "n_name.capitalize()"
   ]
  },
  {
   "cell_type": "markdown",
   "metadata": {},
   "source": [
    "#4- Create a new variable with the year of your birth (its ok to lie here)"
   ]
  },
  {
   "cell_type": "code",
   "execution_count": 4,
   "metadata": {},
   "outputs": [],
   "source": [
    "yr=85"
   ]
  },
  {
   "cell_type": "markdown",
   "metadata": {},
   "source": [
    "#5- Join your name (in lower case) and the last 2 digits of your year of birth into the same variable"
   ]
  },
  {
   "cell_type": "code",
   "execution_count": 5,
   "metadata": {},
   "outputs": [
    {
     "data": {
      "text/plain": [
       "'santosh85'"
      ]
     },
     "execution_count": 5,
     "metadata": {},
     "output_type": "execute_result"
    }
   ],
   "source": [
    "newvar=name.lower()+str(yr)\n",
    "newvar"
   ]
  },
  {
   "cell_type": "markdown",
   "metadata": {},
   "source": [
    "#6- Use the previous variable, multiply the digits by 2"
   ]
  },
  {
   "cell_type": "code",
   "execution_count": 6,
   "metadata": {},
   "outputs": [
    {
     "data": {
      "text/plain": [
       "170"
      ]
     },
     "execution_count": 6,
     "metadata": {},
     "output_type": "execute_result"
    }
   ],
   "source": [
    "yr*2"
   ]
  },
  {
   "cell_type": "markdown",
   "metadata": {},
   "source": [
    "#7- Create an if statement, if that number is superior or equall to 178, print \"you are 30 years old or younger\", else print \"you are 30 years old or older"
   ]
  },
  {
   "cell_type": "code",
   "execution_count": 7,
   "metadata": {},
   "outputs": [
    {
     "name": "stdout",
     "output_type": "stream",
     "text": [
      "you are 30 years old or older\n"
     ]
    }
   ],
   "source": [
    "if (yr>=178):\n",
    "    print(\"you are 30 years old or younger\")\n",
    "else:\n",
    "    print (\"you are 30 years old or older\")\n"
   ]
  },
  {
   "cell_type": "markdown",
   "metadata": {},
   "source": [
    "#8- Replace in the following string the following characters: 0 by o and 3 by e"
   ]
  },
  {
   "cell_type": "code",
   "execution_count": 8,
   "metadata": {},
   "outputs": [
    {
     "name": "stdout",
     "output_type": "stream",
     "text": [
      "Python Crash Course Module 1 Exercises\n"
     ]
    }
   ],
   "source": [
    "ReplaceMe = \"Pyth0n Crash C0urs3 M0dul3 1\"\n",
    "newword=ReplaceMe.replace(\"0\",\"o\")\n",
    "x=newword.replace(\"3\",\"e\") + \" Exercises\"\n",
    "print(x)\n"
   ]
  },
  {
   "cell_type": "markdown",
   "metadata": {},
   "source": [
    "#9-  Join all the variables from the previous exercises with a \";\" between each then split them by \";\""
   ]
  },
  {
   "cell_type": "code",
   "execution_count": 9,
   "metadata": {},
   "outputs": [
    {
     "name": "stdout",
     "output_type": "stream",
     "text": [
      "santosh-sansan-85-Pyth0n Crash C0urs3 M0dul3 1-Python Crash Cours3 Modul3 1-Python Crash Course Module 1 Exercises\n"
     ]
    }
   ],
   "source": [
    "t=name+\"-\"+n_name+\"-\"+str(yr)+\"-\"+ReplaceMe+\"-\"+newword+\"-\"+x\n",
    "print(t)"
   ]
  },
  {
   "cell_type": "code",
   "execution_count": 10,
   "metadata": {},
   "outputs": [
    {
     "data": {
      "text/plain": [
       "['santosh',\n",
       " 'sansan',\n",
       " '85',\n",
       " 'Pyth0n Crash C0urs3 M0dul3 1',\n",
       " 'Python Crash Cours3 Modul3 1',\n",
       " 'Python Crash Course Module 1 Exercises']"
      ]
     },
     "execution_count": 10,
     "metadata": {},
     "output_type": "execute_result"
    }
   ],
   "source": [
    "t.split(\"-\")"
   ]
  },
  {
   "cell_type": "markdown",
   "metadata": {},
   "source": [
    "#10-There's a column from an excel file that we currently receive monthly that we want to extract, however its name is inconsistent. For example, the last 2 months it has been named 'SalesFiGuRES ' and 's AL Es'\n",
    "\n",
    "However we expect it to always mention the word 'sales', find a way to describe the name of that column in a way that we can always find the correct column"
   ]
  },
  {
   "cell_type": "code",
   "execution_count": 11,
   "metadata": {},
   "outputs": [
    {
     "name": "stdout",
     "output_type": "stream",
     "text": [
      "SALESFIGURES\n",
      "SALES\n",
      "this is the colmnn\n"
     ]
    }
   ],
   "source": [
    "name1 = 'SalesFiGuRES   '\n",
    "name2 = 's AL Es'\n",
    "name1 = name1.split(' ')\n",
    "name2 = name2.split(' ')\n",
    "name1=''.join(name1)\n",
    "name2=''.join(name2)\n",
    "\n",
    "t1=name1.upper()\n",
    "t2=name2.upper()\n",
    "\n",
    "print (t1)\n",
    "print (t2)\n",
    "\n",
    "fnd1=t1.find('SALES')\n",
    "fnd2=t2.find('SALES')\n",
    "\n",
    "\n",
    "if(fnd1>=0):\n",
    "    print(\"this is the colmnn\")\n",
    "else:\n",
    "    print(\"No column exists\")"
   ]
  },
  {
   "cell_type": "code",
   "execution_count": null,
   "metadata": {},
   "outputs": [],
   "source": []
  }
 ],
 "metadata": {
  "kernelspec": {
   "display_name": "Python 3",
   "language": "python",
   "name": "python3"
  },
  "language_info": {
   "codemirror_mode": {
    "name": "ipython",
    "version": 3
   },
   "file_extension": ".py",
   "mimetype": "text/x-python",
   "name": "python",
   "nbconvert_exporter": "python",
   "pygments_lexer": "ipython3",
   "version": "3.6.5"
  }
 },
 "nbformat": 4,
 "nbformat_minor": 2
}
